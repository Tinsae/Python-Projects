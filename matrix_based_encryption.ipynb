{
 "cells": [
  {
   "cell_type": "code",
   "execution_count": 135,
   "metadata": {},
   "outputs": [],
   "source": [
    "import numpy as np\n",
    "\n",
    "mapping={}\n",
    "#create a dictionary\n",
    "for i in range(27)[1:27]:\n",
    "    mapping[chr(i+64)]=i\n",
    "#give 0 for space\n",
    "mapping[' ']=0\n",
    "\n",
    "## The reversed dictionary will help us obtain letters by giving associated numbers\n",
    "mapping_reversed={mapping[key]:key for key in mapping}\n",
    "\n",
    "def replace_punctuation(word_list):\n",
    "    word_list=[' ' if (ord(symbol) not in [i+65 for i in range(26)]) else symbol for symbol in word_list]\n",
    "    return word_list, len(word_list)\n",
    "\n",
    "def normalize_message(word_list):\n",
    "    #if wordlist is not divisible by splitamount, add spaces\n",
    "    #first find the nearest divisible number\n",
    "    #subtract the len(word_list) from the number and save as noofspaces\n",
    "    #add spaces noofspaces times   \n",
    "    \n",
    "    #we check only upto 100 multiples\n",
    "    for multiple in [split_amount*m for m in range(100)]:\n",
    "        if(multiple>word_list_length): #it cannot be equal because if it is equal it is divisible by the split amount\n",
    "            amountofspaces=multiple-word_list_length\n",
    "            break\n",
    "\n",
    "    for s in range(amountofspaces):\n",
    "        word_list.append(' ')\n",
    "    return word_list\n",
    "\n",
    "def make_message_matrix(word_list, split_amount):\n",
    "    #Make the message_matrix(according to the split amount)\n",
    "    #the split amount is equivalent the number of columns of the message matrix\n",
    "    splitted=[] #to keep splitted characters\n",
    "    message_matrix=[] #to keep codes\n",
    "    for i in range(0, len(word_list),split_amount):\n",
    "        splitted.append(word_list[i:i+split_amount])\n",
    "        message_matrix.append([mapping[i] for i in word_list[i:i+split_amount]])\n",
    "    return splitted, message_matrix\n",
    "\n",
    "    \n",
    "def encrypt(word,encoding_matrix):\n",
    "    \n",
    "    #covert word to upper_case\n",
    "    word=word.upper()\n",
    "    \n",
    "    #In matrix multiplication number of columns of matrix a should match number of rows of matrix b\n",
    "    #Therefore, we will use the the number of rows of the enconding matrix to be the number of columns\n",
    "    #of the message matrix, this means the split length of the message\n",
    "\n",
    "    split_amount=encoding_matrix.shape[0] \n",
    "    print \"Split_amount(noofcolumns)= \", split_amount\n",
    "    #convert string to list\n",
    "    word_list=list(word)\n",
    "    \n",
    "\n",
    "    ##Replace punctuation by space\n",
    "    word_list, word_list_length=replace_punctuation(word_list)\n",
    "    print \"Length of Message= \", word_list_length\n",
    "\n",
    "    #if the number of letters is not divisible by split amount, add some spaces at the end\n",
    "    if(word_list_length%split_amount!=0):\n",
    "          word_list, word_list_length=normalize_word(word_list)\n",
    "\n",
    "    splitted, message_matrix=make_message_matrix(word_list, split_amount)\n",
    "  \n",
    "    print \"Message in Matrix Form\\n\", message_matrix\n",
    "    #convert to numpy array\n",
    "    message_matrix=np.array(message_matrix)\n",
    "    #multiply the matrices and create coded row matrix\n",
    "    encrypted_matrix=np.dot(message_matrix,encoding_matrix)\n",
    "    #print coded_message\n",
    "    print \"encrypted_matrix \\n\", encrypted_matrix\n",
    "\n",
    "    #unpack coded_message\n",
    "    unpacked_encrypted_matrix=[j for i in encrypted_matrix for j in i ]\n",
    "    #print unpacked_coded_message\n",
    "    \n",
    "    return encrypted_matrix, unpacked_encrypted_matrix\n",
    "\n",
    "def decrypt(encoding_matrix, encrypted_matrix, singular):\n",
    "    if singular:\n",
    "        inverse_matrix=np.linalg.inv(encoding_matrix)\n",
    "    else:\n",
    "        inverse_matrix=np.around(np.linalg.pinv(encoding_matrix))\n",
    "                                 \n",
    "    print \"Inverse_Matrix : \"\n",
    "    print inverse_matrix\n",
    "    original=np.dot(encrypted_matrix,inverse_matrix)\n",
    "    return [j for i in original for j in i ], [mapping_reversed[j] for i in original for j in i ]"
   ]
  },
  {
   "cell_type": "code",
   "execution_count": 136,
   "metadata": {},
   "outputs": [
    {
     "name": "stdout",
     "output_type": "stream",
     "text": [
      "Now Encrypting...\n",
      "Encoding Matrix: \n",
      "[[ 1 -2  2]\n",
      " [-1  1  3]\n",
      " [ 1 -1 -4]]\n",
      "Split_amount(noofcolumns)=  3\n",
      "Length of Message=  15\n",
      "Message in Matrix Form\n",
      "[[13, 5, 5], [20, 0, 13], [5, 0, 13], [15, 14, 4], [1, 25, 0]]\n",
      "encrypted_matrix \n",
      "[[ 13 -26  21]\n",
      " [ 33 -53 -12]\n",
      " [ 18 -23 -42]\n",
      " [  5 -20  56]\n",
      " [-24  23  77]]\n",
      "encrypted form\n",
      "[13, -26, 21, 33, -53, -12, 18, -23, -42, 5, -20, 56, -24, 23, 77]\n",
      "Now Decrypting...\n",
      "Inverse_Matrix : \n",
      "[[ -1. -10.  -8.]\n",
      " [ -1.  -6.  -5.]\n",
      " [ -0.  -1.  -1.]]\n",
      "orignal message code\n",
      "[13.0, 5.0, 5.0, 20.0, 0.0, 13.0, 5.0, 0.0, 13.0, 15.0, 14.0, 4.0, 1.0, 25.0, 0.0]\n",
      "orignal message \n",
      "['M', 'E', 'E', 'T', ' ', 'M', 'E', ' ', 'M', 'O', 'N', 'D', 'A', 'Y', ' ']\n"
     ]
    }
   ],
   "source": [
    "#Example 1\n",
    "\n",
    "#Encrypt first\n",
    "word=\"MEET ME MONDAY.\"\n",
    "print \"Now Encrypting...\"\n",
    "encoding_matrix=np.array([[1,-2,2],[-1,1,3],[1,-1,-4]])\n",
    "print \"Encoding Matrix: \"\n",
    "print encoding_matrix\n",
    "encrypted_matrix,unpacked_encrypted_matrix=encrypt(word, encoding_matrix)\n",
    "print \"encrypted form\\n\",unpacked_encrypted_matrix\n",
    "\n",
    "##Decrypt Next\n",
    "print \"Now Decrypting...\"\n",
    "orginal_code, original_message=decrypt(encoding_matrix,encrypted_matrix, singular=True)\n",
    "print \"orignal message code\\n\", orginal_code\n",
    "print \"orignal message \\n\", original_message\n"
   ]
  },
  {
   "cell_type": "code",
   "execution_count": 137,
   "metadata": {},
   "outputs": [
    {
     "name": "stdout",
     "output_type": "stream",
     "text": [
      "Now Encrypting...\n",
      "Encoding Matrix: \n",
      "[[ 4  2  1]\n",
      " [-3 -3 -1]\n",
      " [ 3  2  1]]\n",
      "Split_amount(noofcolumns)=  3\n",
      "Length of Message=  18\n",
      "Message in Matrix Form\n",
      "[[16, 12, 5], [1, 19, 5], [0, 19, 5], [14, 4, 0], [13, 15, 14], [5, 25, 0]]\n",
      "encrypted_matrix \n",
      "[[ 43   6   9]\n",
      " [-38 -45 -13]\n",
      " [-42 -47 -14]\n",
      " [ 44  16  10]\n",
      " [ 49   9  12]\n",
      " [-55 -65 -20]]\n",
      "unpacked_encrypted_matrix \n",
      "[43, 6, 9, -38, -45, -13, -42, -47, -14, 44, 16, 10, 49, 9, 12, -55, -65, -20]\n",
      "Now Decrypting...\n",
      "Inverse_Matrix : \n",
      "[[ 1.  0. -1.]\n",
      " [ 0. -1. -1.]\n",
      " [-3.  2.  6.]]\n",
      "orignal message code\n",
      "[16.0, 12.0, 5.0, 1.0, 19.0, 5.0, 0.0, 19.0, 5.0, 14.0, 4.0, 0.0, 13.0, 15.0, 14.0, 5.0, 25.0, 0.0]\n",
      "orignal message \n",
      "['P', 'L', 'E', 'A', 'S', 'E', ' ', 'S', 'E', 'N', 'D', ' ', 'M', 'O', 'N', 'E', 'Y', ' ']\n"
     ]
    }
   ],
   "source": [
    "#Example 2 A\n",
    "\n",
    "##using an invertible matrix\n",
    "\n",
    "#Encrypt first\n",
    "word=\"PLEASE SEND MONEY.\"\n",
    "print \"Now Encrypting...\"\n",
    "encoding_matrix=np.array([[4,2,1],[-3,-3,-1],[3,2,1]])\n",
    "print \"Encoding Matrix: \"\n",
    "print encoding_matrix\n",
    "encrypted_matrix,unpacked_encrypted_matrix=encrypt(word, encoding_matrix)\n",
    "print \"unpacked_encrypted_matrix \\n\",unpacked_encrypted_matrix\n",
    "\n",
    "##Decrypt Next\n",
    "print \"Now Decrypting...\"\n",
    "orginal_code, original_message=decrypt(encoding_matrix,encrypted_matrix, singular=False)\n",
    "print \"orignal message code\\n\", orginal_code\n",
    "print \"orignal message \\n\", original_message"
   ]
  },
  {
   "cell_type": "code",
   "execution_count": 138,
   "metadata": {},
   "outputs": [
    {
     "name": "stdout",
     "output_type": "stream",
     "text": [
      "Inverse_Matrix : \n",
      "[[ 11.   2.  -8.]\n",
      " [  4.   1.  -3.]\n",
      " [ -8.  -1.   6.]]\n",
      "orignal message code\n",
      "[8.0, 1.0, 22.0, 5.0, 0.0, 1.0, 0.0, 7.0, 18.0, 5.0, 1.0, 20.0, 0.0, 23.0, 5.0, 5.0, 11.0, 5.0, 14.0, 4.0, 0.0]\n",
      "orignal message \n",
      "['H', 'A', 'V', 'E', ' ', 'A', ' ', 'G', 'R', 'E', 'A', 'T', ' ', 'W', 'E', 'E', 'K', 'E', 'N', 'D', ' ']\n"
     ]
    }
   ],
   "source": [
    "#Example 2 B\n",
    "\n",
    "#decrypting an encrypted text\n",
    "\n",
    "encoding_matrix=encoding_matrix=np.array([[3,-4,2],[0,2,1],[4,-5,3]])\n",
    "encrypted_matrix=np.array([[112,-140,83],[19,-25, 13], [72,-76, 61],[95,-118,71],[20,21,38],[35,-23,36],[42,-48,32]] )\n",
    "orginal_code, original_message=decrypt(encoding_matrix,encrypted_matrix, singular=True)\n",
    "print \"orignal message code\\n\", orginal_code\n",
    "print \"orignal message \\n\", original_message"
   ]
  },
  {
   "cell_type": "code",
   "execution_count": null,
   "metadata": {
    "collapsed": true
   },
   "outputs": [],
   "source": []
  },
  {
   "cell_type": "code",
   "execution_count": null,
   "metadata": {
    "collapsed": true
   },
   "outputs": [],
   "source": []
  },
  {
   "cell_type": "code",
   "execution_count": 144,
   "metadata": {},
   "outputs": [
    {
     "name": "stdout",
     "output_type": "stream",
     "text": [
      "Please enter the encrypted matrix\n",
      "1 2 3 4 19 3\n",
      "[1, 2, 3, 4, 19, 3]\n"
     ]
    }
   ],
   "source": [
    "##TGA trying matrix multiplication\n",
    "#a=np.array([[1,2,3],[4,5,6]])\n",
    "#b=np.array([[4,1],[3,3],[2,1]])\n",
    "\n",
    "#print np.dot(a,b)\n",
    "\n",
    "\n",
    "##TGA trying inverse of a matrix\n",
    "#print np.linalg.inv([[3,0,2],[2,0,-2],[0,1,1]])\n",
    "#print np.around(np.linalg.pinv([[3,0,2],[2,0,-2],[0,1,1]]))\n",
    "\n",
    "##TGA trying shape\n",
    "\n",
    "#Shape is a tuple not a function\n",
    "\n",
    "#print a.shape[0]\n",
    "\n",
    "\n",
    "##TGA trying list input\n",
    "\n",
    "print \"Please enter the encrypted matrix\"\n",
    "a = [int(x) for x in raw_input().split()]\n",
    "print a"
   ]
  },
  {
   "cell_type": "code",
   "execution_count": 140,
   "metadata": {},
   "outputs": [
    {
     "name": "stdout",
     "output_type": "stream",
     "text": [
      "[[ 1.  0. -1.]\n",
      " [ 0. -1. -1.]\n",
      " [-3.  2.  6.]]\n"
     ]
    }
   ],
   "source": [
    "##Pinv is used for non-singular matrices\n",
    "##inv is used for singular ones\n",
    "#np.around will round all numbers to nearest one\n",
    "\n",
    "print  np.around(np.linalg.pinv([[4,2,1],[-3,-3,-1],[3,2,1]]))"
   ]
  },
  {
   "cell_type": "code",
   "execution_count": 147,
   "metadata": {},
   "outputs": [
    {
     "name": "stdout",
     "output_type": "stream",
     "text": [
      "1 2\n"
     ]
    }
   ],
   "source": [
    "xdim,ydim=[1,2]\n",
    "print xdim, ydim"
   ]
  },
  {
   "cell_type": "code",
   "execution_count": null,
   "metadata": {
    "collapsed": true
   },
   "outputs": [],
   "source": []
  }
 ],
 "metadata": {
  "kernelspec": {
   "display_name": "Python 3",
   "language": "python",
   "name": "python3"
  },
  "language_info": {
   "codemirror_mode": {
    "name": "ipython",
    "version": 3
   },
   "file_extension": ".py",
   "mimetype": "text/x-python",
   "name": "python",
   "nbconvert_exporter": "python",
   "pygments_lexer": "ipython3",
   "version": "3.6.6"
  }
 },
 "nbformat": 4,
 "nbformat_minor": 1
}
